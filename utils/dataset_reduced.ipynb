{
 "cells": [
  {
   "cell_type": "code",
   "id": "f29c7f68766b474f",
   "metadata": {
    "ExecuteTime": {
     "end_time": "2024-05-27T14:50:54.238561Z",
     "start_time": "2024-05-27T14:50:50.326881Z"
    }
   },
   "source": [
    "# 1. Import necessary libraries\n",
    "from ultralytics import YOLO # Here we import YOLO\n",
    "import yaml                  # for yaml files\n",
    "import torch\n",
    "from PIL import Image\n",
    "import os\n",
    "import cv2\n",
    "import time"
   ],
   "execution_count": 1,
   "outputs": []
  },
  {
   "metadata": {
    "ExecuteTime": {
     "end_time": "2024-05-27T09:26:49.679553Z",
     "start_time": "2024-05-27T09:26:49.677185Z"
    }
   },
   "cell_type": "code",
   "source": [
    "import torch\n",
    "\n",
    "if torch.cuda.is_available():\n",
    "    print(\"GPU is available\")\n",
    "    print(\"GPU Name:\", torch.cuda.get_device_name(0))\n",
    "else:\n",
    "    print(\"GPU is not available\")"
   ],
   "id": "5fff108b52023ee8",
   "execution_count": 2,
   "outputs": []
  },
  {
   "cell_type": "code",
   "id": "818c08b74c45ee94",
   "metadata": {
    "ExecuteTime": {
     "end_time": "2024-05-27T09:28:15.447120Z",
     "start_time": "2024-05-27T09:28:15.443266Z"
    }
   },
   "source": [
    "# 2. Choose our yaml file\n",
    "yaml_filename = 'gun_detection.yaml'"
   ],
   "execution_count": 3,
   "outputs": []
  },
  {
   "cell_type": "code",
   "id": "390c7f74d15d83a1",
   "metadata": {
    "ExecuteTime": {
     "end_time": "2024-05-27T09:28:20.124167Z",
     "start_time": "2024-05-27T09:28:16.711775Z"
    }
   },
   "source": [
    "!wandb login"
   ],
   "execution_count": 4,
   "outputs": []
  },
  {
   "cell_type": "code",
   "id": "initial_id",
   "metadata": {
    "ExecuteTime": {
     "end_time": "2024-05-27T09:28:29.093598Z",
     "start_time": "2024-05-27T09:28:20.126064Z"
    }
   },
   "source": [
    "import os\n",
    "import shutil\n",
    "import random\n",
    "\n",
    "def create_dirs(base_path):\n",
    "    if not os.path.exists(base_path):\n",
    "        os.makedirs(base_path)\n",
    "    for dir_name in ['train', 'val', 'test']:\n",
    "        os.makedirs(os.path.join(base_path, dir_name, 'images'), exist_ok=True)\n",
    "        os.makedirs(os.path.join(base_path, dir_name, 'labels'), exist_ok=True)\n",
    "\n",
    "def copy_files(src, dst, files, prefix):\n",
    "    for f in files:\n",
    "        src_file = os.path.join(src, f)\n",
    "        dst_file = os.path.join(dst, f\"{prefix}_{f}\")\n",
    "        print(f\"Copiando {f} da {src} a {dst_file}\")\n",
    "        shutil.copy(src_file, dst_file)\n",
    "\n",
    "def reduce_dataset(base_path, reduced_base_path, split_ratios=(0.7, 0.2, 0.1), reduction_factor=0.1):\n",
    "    print(f\"Proporzioni fornite: {split_ratios}\")\n",
    "    print(f\"Somma delle proporzioni: {sum(split_ratios)}\")\n",
    "    assert round(sum(split_ratios), 10) == 1, \"Le proporzioni devono sommare a 1.\"\n",
    "    create_dirs(reduced_base_path)\n",
    "\n",
    "    categories = ['Handgun', 'Machine_Gun', 'No_Gun']\n",
    "    for category in categories:\n",
    "        category_path = os.path.join(base_path, category)\n",
    "        subfolders = [f for f in os.listdir(category_path) if os.path.isdir(os.path.join(category_path, f))]\n",
    "        print(f\"Categoria: {category}, Sottocartelle: {subfolders}\")\n",
    "        random.shuffle(subfolders)\n",
    "\n",
    "        reduced_subfolders = subfolders[:int(len(subfolders) * reduction_factor)]\n",
    "\n",
    "        train_split = int(split_ratios[0] * len(reduced_subfolders))\n",
    "        val_split = int(split_ratios[1] * len(reduced_subfolders))\n",
    "        train_subfolders = reduced_subfolders[:train_split]\n",
    "        val_subfolders = reduced_subfolders[train_split:train_split + val_split]\n",
    "        test_subfolders = reduced_subfolders[train_split + val_split:]\n",
    "\n",
    "        for split, split_subfolders in zip(['train', 'val', 'test'], [train_subfolders, val_subfolders, test_subfolders]):\n",
    "            for subfolder in split_subfolders:\n",
    "                frame_path = os.path.join(category_path, subfolder, 'frames')\n",
    "                if not os.path.exists(frame_path):\n",
    "                    continue\n",
    "                images = [f for f in os.listdir(frame_path) if f.endswith('.jpg')]\n",
    "                labels = [f for f in os.listdir(frame_path) if f.endswith('.txt')]\n",
    "\n",
    "                print(f\"Split: {split}, Subfolder: {subfolder}, Images: {images}, Labels: {labels}\")\n",
    "\n",
    "                copy_files(frame_path, os.path.join(reduced_base_path, split, 'images'), images, f\"{category}_{subfolder}\")\n",
    "                copy_files(frame_path, os.path.join(reduced_base_path, split, 'labels'), labels, f\"{category}_{subfolder}\")\n",
    "\n",
    "# Esegui la riduzione del dataset\n",
    "reduce_dataset(\n",
    "    base_path='./Gun_Action_Recognition_Dataset',\n",
    "    reduced_base_path='./Reduced_Gun_Action_Recognition_Dataset',\n",
    "    split_ratios=(0.7, 0.2, 0.1),\n",
    "    reduction_factor=0.1  # Usa il 10% del dataset originale\n",
    ")\n"
   ],
   "execution_count": 5,
   "outputs": []
  },
  {
   "cell_type": "code",
   "id": "5f2a53877df4a21e",
   "metadata": {
    "ExecuteTime": {
     "end_time": "2024-05-27T09:28:29.309440Z",
     "start_time": "2024-05-27T09:28:29.094527Z"
    }
   },
   "source": [
    "# 3. Create Yolo model\n",
    "model = YOLO('yolov8n.yaml') # creates Yolo object from 'yolov8n.yaml' configuration file.\n",
    "model = YOLO('Reduced_Gun_Action_Recognition_Dataset/yolov8n.pt')   # Loads pretrained weights\n",
    "model = YOLO('yolov8n.yaml').load('Reduced_Gun_Action_Recognition_Dataset/yolov8n.pt')  # build from YAML and transfer weights"
   ],
   "execution_count": 6,
   "outputs": []
  },
  {
   "cell_type": "code",
   "id": "2cf0c412320c4141",
   "metadata": {
    "ExecuteTime": {
     "end_time": "2024-05-27T09:28:29.313615Z",
     "start_time": "2024-05-27T09:28:29.310689Z"
    }
   },
   "source": [
    "data_config = \"\"\"\n",
    "train: /Users/andreavisi/Desktop/PYTHON/Computer Vision e Deep Learning 2024/PROGETTO/Reduced_Gun_Action_Recognition_Dataset/train/images\n",
    "val: /Users/andreavisi/Desktop/PYTHON/Computer Vision e Deep Learning 2024/PROGETTO/Reduced_Gun_Action_Recognition_Dataset/val/images\n",
    "\n",
    "# Numero di classi\n",
    "nc: 2\n",
    "\n",
    "# Nomi delle classi\n",
    "names: ['Handgun', 'Machine_Gun']\n",
    "\"\"\"\n",
    "\n",
    "with open('gun_detection.yaml', 'w') as f:\n",
    "    f.write(data_config)"
   ],
   "execution_count": 7,
   "outputs": []
  },
  {
   "cell_type": "code",
   "id": "3d0cfc03cd8b7901",
   "metadata": {
    "jupyter": {
     "is_executing": true
    },
    "ExecuteTime": {
     "start_time": "2024-05-27T09:28:34.595929Z"
    }
   },
   "source": [
    "# 4. Train the model\n",
    "model.train(data='{}'.format(yaml_filename), epochs=30,patience=5, batch=16,  imgsz=640)"
   ],
   "execution_count": null,
   "outputs": []
  },
  {
   "metadata": {},
   "cell_type": "code",
   "execution_count": null,
   "source": "",
   "id": "ce049267773fb943",
   "outputs": []
  }
 ],
 "metadata": {
  "kernelspec": {
   "display_name": "Python 3 (ipykernel)",
   "language": "python",
   "name": "python3"
  },
  "language_info": {
   "codemirror_mode": {
    "name": "ipython",
    "version": 3
   },
   "file_extension": ".py",
   "mimetype": "text/x-python",
   "name": "python",
   "nbconvert_exporter": "python",
   "pygments_lexer": "ipython3",
   "version": "3.12.3"
  }
 },
 "nbformat": 4,
 "nbformat_minor": 5
}
